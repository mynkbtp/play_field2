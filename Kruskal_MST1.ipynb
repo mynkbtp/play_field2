{
 "cells": [
  {
   "cell_type": "code",
   "execution_count": 1,
   "metadata": {},
   "outputs": [
    {
     "name": "stdout",
     "output_type": "stream",
     "text": [
      "Enter the number of vertices in the graph8\n"
     ]
    }
   ],
   "source": [
    "v_no=int(input(\"Enter the number of vertices in the graph\"))"
   ]
  },
  {
   "cell_type": "code",
   "execution_count": 2,
   "metadata": {},
   "outputs": [
    {
     "data": {
      "text/plain": [
       "8"
      ]
     },
     "execution_count": 2,
     "metadata": {},
     "output_type": "execute_result"
    }
   ],
   "source": [
    "v_no"
   ]
  },
  {
   "cell_type": "code",
   "execution_count": 3,
   "metadata": {},
   "outputs": [],
   "source": [
    "adj_matrix=[]\n",
    "visited={}\n",
    "visited={i:0 for i in range(v_no)}"
   ]
  },
  {
   "cell_type": "code",
   "execution_count": 4,
   "metadata": {},
   "outputs": [
    {
     "data": {
      "text/plain": [
       "{0: 0, 1: 0, 2: 0, 3: 0, 4: 0, 5: 0, 6: 0, 7: 0}"
      ]
     },
     "execution_count": 4,
     "metadata": {},
     "output_type": "execute_result"
    }
   ],
   "source": [
    "visited"
   ]
  },
  {
   "cell_type": "code",
   "execution_count": 5,
   "metadata": {
    "scrolled": true
   },
   "outputs": [
    {
     "name": "stdout",
     "output_type": "stream",
     "text": [
      "Enter the value vertice0 for row 00\n",
      "Enter the value vertice1 for row 01\n",
      "Enter the value vertice2 for row 00\n",
      "Enter the value vertice3 for row 01\n",
      "Enter the value vertice4 for row 00\n",
      "Enter the value vertice5 for row 00\n",
      "Enter the value vertice6 for row 00\n",
      "Enter the value vertice7 for row 00\n",
      "-----------------------------------------------------------\n",
      "Enter the value vertice0 for row 11\n",
      "Enter the value vertice1 for row 10\n",
      "Enter the value vertice2 for row 11\n",
      "Enter the value vertice3 for row 11\n",
      "Enter the value vertice4 for row 10\n",
      "Enter the value vertice5 for row 11\n",
      "Enter the value vertice6 for row 10\n",
      "Enter the value vertice7 for row 10\n",
      "-----------------------------------------------------------\n",
      "Enter the value vertice0 for row 20\n",
      "Enter the value vertice1 for row 21\n",
      "Enter the value vertice2 for row 20\n",
      "Enter the value vertice3 for row 21\n",
      "Enter the value vertice4 for row 21\n",
      "Enter the value vertice5 for row 21\n",
      "Enter the value vertice6 for row 20\n",
      "Enter the value vertice7 for row 20\n",
      "-----------------------------------------------------------\n",
      "Enter the value vertice0 for row 31\n",
      "Enter the value vertice1 for row 31\n",
      "Enter the value vertice2 for row 31\n",
      "Enter the value vertice3 for row 30\n",
      "Enter the value vertice4 for row 31\n",
      "Enter the value vertice5 for row 30\n",
      "Enter the value vertice6 for row 31\n",
      "Enter the value vertice7 for row 30\n",
      "-----------------------------------------------------------\n",
      "Enter the value vertice0 for row 40\n",
      "Enter the value vertice1 for row 40\n",
      "Enter the value vertice2 for row 41\n",
      "Enter the value vertice3 for row 41\n",
      "Enter the value vertice4 for row 40\n",
      "Enter the value vertice5 for row 41\n",
      "Enter the value vertice6 for row 40\n",
      "Enter the value vertice7 for row 40\n",
      "-----------------------------------------------------------\n",
      "Enter the value vertice0 for row 50\n",
      "Enter the value vertice1 for row 51\n",
      "Enter the value vertice2 for row 51\n",
      "Enter the value vertice3 for row 50\n",
      "Enter the value vertice4 for row 51\n",
      "Enter the value vertice5 for row 50\n",
      "Enter the value vertice6 for row 50\n",
      "Enter the value vertice7 for row 51\n",
      "-----------------------------------------------------------\n",
      "Enter the value vertice0 for row 60\n",
      "Enter the value vertice1 for row 60\n",
      "Enter the value vertice2 for row 60\n",
      "Enter the value vertice3 for row 61\n",
      "Enter the value vertice4 for row 60\n",
      "Enter the value vertice5 for row 60\n",
      "Enter the value vertice6 for row 60\n",
      "Enter the value vertice7 for row 60\n",
      "-----------------------------------------------------------\n",
      "Enter the value vertice0 for row 70\n",
      "Enter the value vertice1 for row 70\n",
      "Enter the value vertice2 for row 70\n",
      "Enter the value vertice3 for row 70\n",
      "Enter the value vertice4 for row 70\n",
      "Enter the value vertice5 for row 71\n",
      "Enter the value vertice6 for row 70\n",
      "Enter the value vertice7 for row 70\n",
      "-----------------------------------------------------------\n"
     ]
    }
   ],
   "source": [
    "\n",
    "for i in range(v_no):\n",
    "    adj_matrix.append([])\n",
    "    for j in range(v_no):\n",
    "        adj_matrix[i].append(int(input(\"Enter the value vertice{} for row {}\".format(j,i))))\n",
    "    print(\"-----------------------------------------------------------\")\n"
   ]
  },
  {
   "cell_type": "code",
   "execution_count": 6,
   "metadata": {},
   "outputs": [
    {
     "data": {
      "text/plain": [
       "[[0, 1, 0, 1, 0, 0, 0, 0],\n",
       " [1, 0, 1, 1, 0, 1, 0, 0],\n",
       " [0, 1, 0, 1, 1, 1, 0, 0],\n",
       " [1, 1, 1, 0, 1, 0, 1, 0],\n",
       " [0, 0, 1, 1, 0, 1, 0, 0],\n",
       " [0, 1, 1, 0, 1, 0, 0, 1],\n",
       " [0, 0, 0, 1, 0, 0, 0, 0],\n",
       " [0, 0, 0, 0, 0, 1, 0, 0]]"
      ]
     },
     "execution_count": 6,
     "metadata": {},
     "output_type": "execute_result"
    }
   ],
   "source": [
    "adj_matrix   # Adjacency Matrixbb"
   ]
  },
  {
   "cell_type": "code",
   "execution_count": 7,
   "metadata": {},
   "outputs": [],
   "source": [
    "neighbor={}\n",
    "for m in range(v_no):\n",
    "    neighbor[m]=[i for i,d in enumerate(adj_matrix[m]) if d==1]\n"
   ]
  },
  {
   "cell_type": "code",
   "execution_count": 8,
   "metadata": {},
   "outputs": [
    {
     "data": {
      "text/plain": [
       "{0: [1, 3],\n",
       " 1: [0, 2, 3, 5],\n",
       " 2: [1, 3, 4, 5],\n",
       " 3: [0, 1, 2, 4, 6],\n",
       " 4: [2, 3, 5],\n",
       " 5: [1, 2, 4, 7],\n",
       " 6: [3],\n",
       " 7: [5]}"
      ]
     },
     "execution_count": 8,
     "metadata": {},
     "output_type": "execute_result"
    }
   ],
   "source": [
    "neighbor  # Adjacency list"
   ]
  },
  {
   "cell_type": "code",
   "execution_count": 9,
   "metadata": {},
   "outputs": [
    {
     "name": "stdout",
     "output_type": "stream",
     "text": [
      "Enter the vertices joining edge0 1\n",
      "Enter the weight of the edge connecting 0 and 17\n",
      "Weight insertion complete ? (Y/N)\n",
      "Enter the vertices joining edge1 3\n",
      "Enter the weight of the edge connecting 1 and 33\n",
      "Weight insertion complete ? (Y/N)\n",
      "Enter the vertices joining edge3 4\n",
      "Enter the weight of the edge connecting 3 and 45\n",
      "Weight insertion complete ? (Y/N)\n",
      "Enter the vertices joining edge0 3\n",
      "Enter the weight of the edge connecting 0 and 32\n",
      "Weight insertion complete ? (Y/N)\n",
      "Enter the vertices joining edge3 6\n",
      "Enter the weight of the edge connecting 3 and 650\n",
      "Weight insertion complete ? (Y/N)\n",
      "Enter the vertices joining edge4 5\n",
      "Enter the weight of the edge connecting 4 and 51\n",
      "Weight insertion complete ? (Y/N)\n",
      "Enter the vertices joining edge3 4\n",
      "Enter the weight of the edge connecting 3 and 41\n",
      "Weight insertion complete ? (Y/N)\n",
      "Enter the vertices joining edge2 4\n",
      "Enter the weight of the edge connecting 2 and 42\n",
      "Weight insertion complete ? (Y/N)\n",
      "Enter the vertices joining edge2 3\n",
      "Enter the weight of the edge connecting 2 and 315\n",
      "Weight insertion complete ? (Y/N)\n",
      "Enter the vertices joining edge1 2\n",
      "Enter the weight of the edge connecting 1 and 210\n",
      "Weight insertion complete ? (Y/N)\n",
      "Enter the vertices joining edge2 5\n",
      "Enter the weight of the edge connecting 2 and 53\n",
      "Weight insertion complete ? (Y/N)\n",
      "Enter the vertices joining edge5 7\n",
      "Enter the weight of the edge connecting 5 and 750\n",
      "Weight insertion complete ? (Y/N)\n",
      "Enter the vertices joining edge1 5\n",
      "Enter the weight of the edge connecting 1 and 511\n",
      "Weight insertion complete ? (Y/N)\n",
      "Enter the vertices joining edge0 0\n",
      "Enter the weight of the edge connecting 0 and 00\n",
      "Weight insertion complete ? (Y/N)Y\n"
     ]
    }
   ],
   "source": [
    "edge_dict=[]\n",
    "done='N'\n",
    "while(done!='Y'):\n",
    "    m=0\n",
    "    v1,v2=input(\"Enter the vertices joining edge\" ).split()\n",
    "    weight=int(input(\"Enter the weight of the edge connecting {} and {}\".format(int(v1),int(v2))))\n",
    "    edge_dict.append([int(v1),int(v2),int(weight)])\n",
    "    m=m+1\n",
    "    done=input(\"Weight insertion complete ? (Y/N)\")\n"
   ]
  },
  {
   "cell_type": "code",
   "execution_count": 10,
   "metadata": {},
   "outputs": [
    {
     "data": {
      "text/plain": [
       "[[0, 1, 7],\n",
       " [1, 3, 3],\n",
       " [3, 4, 5],\n",
       " [0, 3, 2],\n",
       " [3, 6, 50],\n",
       " [4, 5, 1],\n",
       " [3, 4, 1],\n",
       " [2, 4, 2],\n",
       " [2, 3, 15],\n",
       " [1, 2, 10],\n",
       " [2, 5, 3],\n",
       " [5, 7, 50],\n",
       " [1, 5, 11],\n",
       " [0, 0, 0]]"
      ]
     },
     "execution_count": 10,
     "metadata": {},
     "output_type": "execute_result"
    }
   ],
   "source": [
    "edge_dict  #format-- [v1,v2,weight]"
   ]
  },
  {
   "cell_type": "code",
   "execution_count": 18,
   "metadata": {},
   "outputs": [],
   "source": [
    "edge_dict.remove([0,0,0])"
   ]
  },
  {
   "cell_type": "code",
   "execution_count": 19,
   "metadata": {},
   "outputs": [
    {
     "data": {
      "text/plain": [
       "[[0, 1, 7],\n",
       " [1, 3, 3],\n",
       " [3, 4, 5],\n",
       " [0, 3, 2],\n",
       " [3, 6, 50],\n",
       " [4, 5, 1],\n",
       " [3, 4, 1],\n",
       " [2, 4, 2],\n",
       " [2, 3, 15],\n",
       " [1, 2, 10],\n",
       " [2, 5, 3],\n",
       " [5, 7, 50],\n",
       " [1, 5, 11]]"
      ]
     },
     "execution_count": 19,
     "metadata": {},
     "output_type": "execute_result"
    }
   ],
   "source": [
    "edge_dict"
   ]
  },
  {
   "cell_type": "code",
   "execution_count": 20,
   "metadata": {},
   "outputs": [
    {
     "data": {
      "text/plain": [
       "{0: 0, 1: 0, 2: 0, 3: 0, 4: 0, 5: 0, 6: 0, 7: 0}"
      ]
     },
     "execution_count": 20,
     "metadata": {},
     "output_type": "execute_result"
    }
   ],
   "source": [
    "visited"
   ]
  },
  {
   "cell_type": "code",
   "execution_count": 21,
   "metadata": {},
   "outputs": [
    {
     "data": {
      "text/plain": [
       "3"
      ]
     },
     "execution_count": 21,
     "metadata": {},
     "output_type": "execute_result"
    }
   ],
   "source": [
    "edge_dict[1][2]"
   ]
  },
  {
   "cell_type": "code",
   "execution_count": 22,
   "metadata": {},
   "outputs": [],
   "source": [
    "edge_dict.sort(key = lambda x: x[2]) "
   ]
  },
  {
   "cell_type": "code",
   "execution_count": 23,
   "metadata": {},
   "outputs": [
    {
     "data": {
      "text/plain": [
       "[[4, 5, 1],\n",
       " [3, 4, 1],\n",
       " [0, 3, 2],\n",
       " [2, 4, 2],\n",
       " [1, 3, 3],\n",
       " [2, 5, 3],\n",
       " [3, 4, 5],\n",
       " [0, 1, 7],\n",
       " [1, 2, 10],\n",
       " [1, 5, 11],\n",
       " [2, 3, 15],\n",
       " [3, 6, 50],\n",
       " [5, 7, 50]]"
      ]
     },
     "execution_count": 23,
     "metadata": {},
     "output_type": "execute_result"
    }
   ],
   "source": [
    "edge_dict  #after sorting by weight"
   ]
  },
  {
   "cell_type": "code",
   "execution_count": 24,
   "metadata": {
    "scrolled": true
   },
   "outputs": [
    {
     "name": "stdout",
     "output_type": "stream",
     "text": [
      "MST by KRUSKAL---> output format\n",
      "\n",
      "\n",
      "vertex-------weight----------vertex\n",
      "\n",
      "4 -------1------- 5\n",
      "3 -------1------- 4\n",
      "0 -------2------- 3\n",
      "2 -------2------- 4\n",
      "1 -------3------- 3\n",
      "3 -------50------- 6\n",
      "5 -------50------- 7\n"
     ]
    }
   ],
   "source": [
    "print(\"MST by KRUSKAL---> output format\\n\\n\\nvertex-------weight----------vertex\\n\")\n",
    "for i in range(len(edge_dict)):\n",
    "    if(visited[edge_dict[i][0]]==1 and visited[edge_dict[i][1]]==1):\n",
    "        i=i+1\n",
    "    else:\n",
    "         if(visited[edge_dict[i][0]]!=1):\n",
    "            visited[edge_dict[i][0]]=1\n",
    "         if(visited[edge_dict[i][1]]!=1):\n",
    "            visited[edge_dict[i][1]]=1\n",
    "         print(edge_dict[i][0],\"-------{}-------\".format(edge_dict[i][2]),edge_dict[i][1])\n",
    "         #print(visited)\n",
    "        "
   ]
  },
  {
   "cell_type": "code",
   "execution_count": 25,
   "metadata": {},
   "outputs": [
    {
     "data": {
      "text/plain": [
       "{0: 1, 1: 1, 2: 1, 3: 1, 4: 1, 5: 1, 6: 1, 7: 1}"
      ]
     },
     "execution_count": 25,
     "metadata": {},
     "output_type": "execute_result"
    }
   ],
   "source": [
    "visited  #after traversal"
   ]
  },
  {
   "cell_type": "code",
   "execution_count": null,
   "metadata": {},
   "outputs": [],
   "source": []
  },
  {
   "cell_type": "code",
   "execution_count": null,
   "metadata": {},
   "outputs": [],
   "source": []
  }
 ],
 "metadata": {
  "kernelspec": {
   "display_name": "Python 3",
   "language": "python",
   "name": "python3"
  },
  "language_info": {
   "codemirror_mode": {
    "name": "ipython",
    "version": 3
   },
   "file_extension": ".py",
   "mimetype": "text/x-python",
   "name": "python",
   "nbconvert_exporter": "python",
   "pygments_lexer": "ipython3",
   "version": "3.7.3"
  }
 },
 "nbformat": 4,
 "nbformat_minor": 2
}
