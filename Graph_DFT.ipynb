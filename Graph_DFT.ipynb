{
 "cells": [
  {
   "cell_type": "code",
   "execution_count": 4,
   "metadata": {},
   "outputs": [
    {
     "name": "stdout",
     "output_type": "stream",
     "text": [
      "Enter the number of vertices in the graph7\n"
     ]
    }
   ],
   "source": [
    "v_no=int(input(\"Enter the number of vertices in the graph\"))"
   ]
  },
  {
   "cell_type": "code",
   "execution_count": 5,
   "metadata": {},
   "outputs": [
    {
     "data": {
      "text/plain": [
       "7"
      ]
     },
     "execution_count": 5,
     "metadata": {},
     "output_type": "execute_result"
    }
   ],
   "source": [
    "v_no"
   ]
  },
  {
   "cell_type": "code",
   "execution_count": 6,
   "metadata": {},
   "outputs": [],
   "source": [
    "adj_matrix=[]\n",
    "visited={}\n",
    "visited={i:0 for i in range(v_no)}"
   ]
  },
  {
   "cell_type": "code",
   "execution_count": 7,
   "metadata": {},
   "outputs": [
    {
     "data": {
      "text/plain": [
       "{0: 0, 1: 0, 2: 0, 3: 0, 4: 0, 5: 0, 6: 0}"
      ]
     },
     "execution_count": 7,
     "metadata": {},
     "output_type": "execute_result"
    }
   ],
   "source": [
    "visited"
   ]
  },
  {
   "cell_type": "code",
   "execution_count": 8,
   "metadata": {},
   "outputs": [
    {
     "name": "stdout",
     "output_type": "stream",
     "text": [
      "Enter the value vertice0 for row 01\n",
      "Enter the value vertice1 for row 01\n",
      "Enter the value vertice2 for row 01\n",
      "Enter the value vertice3 for row 01\n",
      "Enter the value vertice4 for row 00\n",
      "Enter the value vertice5 for row 00\n",
      "Enter the value vertice6 for row 00\n",
      "-----------------------------------------------------------\n",
      "Enter the value vertice0 for row 11\n",
      "Enter the value vertice1 for row 11\n",
      "Enter the value vertice2 for row 10\n",
      "Enter the value vertice3 for row 10\n",
      "Enter the value vertice4 for row 11\n",
      "Enter the value vertice5 for row 10\n",
      "Enter the value vertice6 for row 10\n",
      "-----------------------------------------------------------\n",
      "Enter the value vertice0 for row 21\n",
      "Enter the value vertice1 for row 20\n",
      "Enter the value vertice2 for row 21\n",
      "Enter the value vertice3 for row 20\n",
      "Enter the value vertice4 for row 21\n",
      "Enter the value vertice5 for row 21\n",
      "Enter the value vertice6 for row 20\n",
      "-----------------------------------------------------------\n",
      "Enter the value vertice0 for row 31\n",
      "Enter the value vertice1 for row 30\n",
      "Enter the value vertice2 for row 30\n",
      "Enter the value vertice3 for row 31\n",
      "Enter the value vertice4 for row 30\n",
      "Enter the value vertice5 for row 31\n",
      "Enter the value vertice6 for row 30\n",
      "-----------------------------------------------------------\n",
      "Enter the value vertice0 for row 40\n",
      "Enter the value vertice1 for row 41\n",
      "Enter the value vertice2 for row 41\n",
      "Enter the value vertice3 for row 40\n",
      "Enter the value vertice4 for row 41\n",
      "Enter the value vertice5 for row 40\n",
      "Enter the value vertice6 for row 41\n",
      "-----------------------------------------------------------\n",
      "Enter the value vertice0 for row 50\n",
      "Enter the value vertice1 for row 50\n",
      "Enter the value vertice2 for row 51\n",
      "Enter the value vertice3 for row 51\n",
      "Enter the value vertice4 for row 50\n",
      "Enter the value vertice5 for row 51\n",
      "Enter the value vertice6 for row 51\n",
      "-----------------------------------------------------------\n",
      "Enter the value vertice0 for row 60\n",
      "Enter the value vertice1 for row 60\n",
      "Enter the value vertice2 for row 60\n",
      "Enter the value vertice3 for row 60\n",
      "Enter the value vertice4 for row 61\n",
      "Enter the value vertice5 for row 61\n",
      "Enter the value vertice6 for row 61\n",
      "-----------------------------------------------------------\n"
     ]
    }
   ],
   "source": [
    "\n",
    "for i in range(v_no):\n",
    "    adj_matrix.append([])\n",
    "    for j in range(v_no):\n",
    "        adj_matrix[i].append(int(input(\"Enter the value vertice{} for row {}\".format(j,i))))\n",
    "    print(\"-----------------------------------------------------------\")\n"
   ]
  },
  {
   "cell_type": "code",
   "execution_count": 9,
   "metadata": {},
   "outputs": [
    {
     "data": {
      "text/plain": [
       "[[1, 1, 1, 1, 0, 0, 0],\n",
       " [1, 1, 0, 0, 1, 0, 0],\n",
       " [1, 0, 1, 0, 1, 1, 0],\n",
       " [1, 0, 0, 1, 0, 1, 0],\n",
       " [0, 1, 1, 0, 1, 0, 1],\n",
       " [0, 0, 1, 1, 0, 1, 1],\n",
       " [0, 0, 0, 0, 1, 1, 1]]"
      ]
     },
     "execution_count": 9,
     "metadata": {},
     "output_type": "execute_result"
    }
   ],
   "source": [
    "adj_matrix"
   ]
  },
  {
   "cell_type": "code",
   "execution_count": 10,
   "metadata": {},
   "outputs": [],
   "source": [
    "neighbor={}\n",
    "for m in range(v_no):\n",
    "    neighbor[m]=[i for i,d in enumerate(adj_matrix[m]) if d==1]"
   ]
  },
  {
   "cell_type": "code",
   "execution_count": 11,
   "metadata": {
    "scrolled": true
   },
   "outputs": [
    {
     "data": {
      "text/plain": [
       "{0: [0, 1, 2, 3],\n",
       " 1: [0, 1, 4],\n",
       " 2: [0, 2, 4, 5],\n",
       " 3: [0, 3, 5],\n",
       " 4: [1, 2, 4, 6],\n",
       " 5: [2, 3, 5, 6],\n",
       " 6: [4, 5, 6]}"
      ]
     },
     "execution_count": 11,
     "metadata": {},
     "output_type": "execute_result"
    }
   ],
   "source": [
    "neighbor"
   ]
  },
  {
   "cell_type": "code",
   "execution_count": 138,
   "metadata": {},
   "outputs": [],
   "source": [
    "#visited[6]=0"
   ]
  },
  {
   "cell_type": "code",
   "execution_count": 12,
   "metadata": {},
   "outputs": [
    {
     "data": {
      "text/plain": [
       "{0: 0, 1: 0, 2: 0, 3: 0, 4: 0, 5: 0, 6: 0}"
      ]
     },
     "execution_count": 12,
     "metadata": {},
     "output_type": "execute_result"
    }
   ],
   "source": [
    "visited"
   ]
  },
  {
   "cell_type": "code",
   "execution_count": 13,
   "metadata": {},
   "outputs": [
    {
     "data": {
      "text/plain": [
       "{0: [0, 1, 2, 3],\n",
       " 1: [0, 1, 4],\n",
       " 2: [0, 2, 4, 5],\n",
       " 3: [0, 3, 5],\n",
       " 4: [1, 2, 4, 6],\n",
       " 5: [2, 3, 5, 6],\n",
       " 6: [4, 5, 6]}"
      ]
     },
     "execution_count": 13,
     "metadata": {},
     "output_type": "execute_result"
    }
   ],
   "source": [
    "neighbor"
   ]
  },
  {
   "cell_type": "code",
   "execution_count": 14,
   "metadata": {},
   "outputs": [],
   "source": [
    "#Q=[]\n",
    "output=[]\n",
    "def df_traversal(strt):\n",
    "    visited[strt]=1\n",
    "    output.append(strt)\n",
    "    for j in range(len(neighbor[strt])):\n",
    "            if (neighbor[strt][j]==strt):\n",
    "                if(j!=v_no-1):\n",
    "                 j=j+1\n",
    "            elif(visited[neighbor[strt][j]]!=1):\n",
    "                #checks all neighbors\n",
    "                df_traversal(neighbor[strt][j])\n",
    "            \n",
    "                    \n",
    "                \n",
    "                print(\"\",neighbor[strt][j])\n",
    "                #df_traversal(neighbor[strt][j])\n",
    "                #Q.append(neighbor[strt][j])\n",
    "               # print(Q)\n",
    "                #visited[neighbor[strt][j]]=1\n",
    "            else:\n",
    "                if(j!=v_no-1):\n",
    "                 j=j+1\n",
    "    \n",
    "    "
   ]
  },
  {
   "cell_type": "code",
   "execution_count": 15,
   "metadata": {},
   "outputs": [
    {
     "name": "stdout",
     "output_type": "stream",
     "text": [
      "Enter the starting vertice(starting from 0)6\n"
     ]
    }
   ],
   "source": [
    "strt=int(input(\"Enter the starting vertice(starting from 0)\"))"
   ]
  },
  {
   "cell_type": "code",
   "execution_count": 16,
   "metadata": {},
   "outputs": [
    {
     "name": "stdout",
     "output_type": "stream",
     "text": [
      " 3\n",
      " 5\n",
      " 2\n",
      " 0\n",
      " 1\n",
      " 4\n"
     ]
    }
   ],
   "source": [
    "df_traversal(strt)"
   ]
  },
  {
   "cell_type": "code",
   "execution_count": 17,
   "metadata": {},
   "outputs": [
    {
     "data": {
      "text/plain": [
       "[6, 4, 1, 0, 2, 5, 3]"
      ]
     },
     "execution_count": 17,
     "metadata": {},
     "output_type": "execute_result"
    }
   ],
   "source": [
    "#Depth First Traversal\n",
    "output"
   ]
  },
  {
   "cell_type": "code",
   "execution_count": 162,
   "metadata": {},
   "outputs": [],
   "source": []
  },
  {
   "cell_type": "code",
   "execution_count": 18,
   "metadata": {},
   "outputs": [
    {
     "data": {
      "text/plain": [
       "{0: 1, 1: 1, 2: 1, 3: 1, 4: 1, 5: 1, 6: 1}"
      ]
     },
     "execution_count": 18,
     "metadata": {},
     "output_type": "execute_result"
    }
   ],
   "source": [
    "#visited dictionary after traversal\n",
    "visited"
   ]
  },
  {
   "cell_type": "code",
   "execution_count": 19,
   "metadata": {},
   "outputs": [],
   "source": [
    "#visited={i:0 for i in range(v_no)}"
   ]
  }
 ],
 "metadata": {
  "kernelspec": {
   "display_name": "Python 3",
   "language": "python",
   "name": "python3"
  },
  "language_info": {
   "codemirror_mode": {
    "name": "ipython",
    "version": 3
   },
   "file_extension": ".py",
   "mimetype": "text/x-python",
   "name": "python",
   "nbconvert_exporter": "python",
   "pygments_lexer": "ipython3",
   "version": "3.7.3"
  }
 },
 "nbformat": 4,
 "nbformat_minor": 2
}
