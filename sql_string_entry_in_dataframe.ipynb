{
  "nbformat": 4,
  "nbformat_minor": 0,
  "metadata": {
    "colab": {
      "name": "sql_string entry in df.ipynb",
      "version": "0.3.2",
      "provenance": [],
      "collapsed_sections": [],
      "include_colab_link": true
    },
    "kernelspec": {
      "name": "python3",
      "display_name": "Python 3"
    }
  },
  "cells": [
    {
      "cell_type": "markdown",
      "metadata": {
        "id": "view-in-github",
        "colab_type": "text"
      },
      "source": [
        "<a href=\"https://colab.research.google.com/github/mynkbtp/play_field2/blob/master/sql_string_entry_in_dataframe.ipynb\" target=\"_parent\"><img src=\"https://colab.research.google.com/assets/colab-badge.svg\" alt=\"Open In Colab\"/></a>"
      ]
    },
    {
      "cell_type": "code",
      "metadata": {
        "id": "bKXzfa6GdKT5",
        "colab_type": "code",
        "colab": {}
      },
      "source": [
        "from itertools import product"
      ],
      "execution_count": 0,
      "outputs": []
    },
    {
      "cell_type": "code",
      "metadata": {
        "id": "J8gfHqGGdX8V",
        "colab_type": "code",
        "colab": {}
      },
      "source": [
        "dict1={\"1\":['B','C','D'],\"2\":['E','F','G'],\"3\":['H','I','J'],\"4\":['K','L','M']}"
      ],
      "execution_count": 0,
      "outputs": []
    },
    {
      "cell_type": "code",
      "metadata": {
        "id": "iZpU6xLjdYGL",
        "colab_type": "code",
        "outputId": "05f85a8f-2bbb-454d-c5d8-9d0ce6190695",
        "colab": {
          "base_uri": "https://localhost:8080/",
          "height": 34
        }
      },
      "source": [
        "dict1[\"3\"]"
      ],
      "execution_count": 0,
      "outputs": [
        {
          "output_type": "execute_result",
          "data": {
            "text/plain": [
              "['H', 'I', 'J']"
            ]
          },
          "metadata": {
            "tags": []
          },
          "execution_count": 5
        }
      ]
    },
    {
      "cell_type": "code",
      "metadata": {
        "id": "bykTNUGfdYJb",
        "colab_type": "code",
        "colab": {}
      },
      "source": [
        "dict_combination=list(product(dict1[\"1\"],dict1[\"2\"],dict1[\"3\"],dict1[\"4\"]))"
      ],
      "execution_count": 0,
      "outputs": []
    },
    {
      "cell_type": "code",
      "metadata": {
        "id": "3woKKUk-dYMD",
        "colab_type": "code",
        "outputId": "9e497f00-221b-4c40-f682-f894c2434763",
        "colab": {
          "base_uri": "https://localhost:8080/",
          "height": 34
        }
      },
      "source": [
        "dict_combination[1]"
      ],
      "execution_count": 0,
      "outputs": [
        {
          "output_type": "execute_result",
          "data": {
            "text/plain": [
              "('B', 'E', 'H', 'L')"
            ]
          },
          "metadata": {
            "tags": []
          },
          "execution_count": 10
        }
      ]
    },
    {
      "cell_type": "code",
      "metadata": {
        "id": "CHEH7XpDdYO3",
        "colab_type": "code",
        "colab": {}
      },
      "source": [
        "str_list=[]\n",
        "for i in range(len(dict_combination)):\n",
        "  str_list.append(dict_combination[i])\n",
        "  "
      ],
      "execution_count": 0,
      "outputs": []
    },
    {
      "cell_type": "code",
      "metadata": {
        "id": "1P9IE8fBdYbL",
        "colab_type": "code",
        "outputId": "1286b1ad-6b00-4a31-bdba-216ae9d1bf72",
        "colab": {
          "base_uri": "https://localhost:8080/",
          "height": 1000
        }
      },
      "source": [
        "str_list"
      ],
      "execution_count": 0,
      "outputs": [
        {
          "output_type": "execute_result",
          "data": {
            "text/plain": [
              "[('B', 'E', 'H', 'K'),\n",
              " ('B', 'E', 'H', 'L'),\n",
              " ('B', 'E', 'H', 'M'),\n",
              " ('B', 'E', 'I', 'K'),\n",
              " ('B', 'E', 'I', 'L'),\n",
              " ('B', 'E', 'I', 'M'),\n",
              " ('B', 'E', 'J', 'K'),\n",
              " ('B', 'E', 'J', 'L'),\n",
              " ('B', 'E', 'J', 'M'),\n",
              " ('B', 'F', 'H', 'K'),\n",
              " ('B', 'F', 'H', 'L'),\n",
              " ('B', 'F', 'H', 'M'),\n",
              " ('B', 'F', 'I', 'K'),\n",
              " ('B', 'F', 'I', 'L'),\n",
              " ('B', 'F', 'I', 'M'),\n",
              " ('B', 'F', 'J', 'K'),\n",
              " ('B', 'F', 'J', 'L'),\n",
              " ('B', 'F', 'J', 'M'),\n",
              " ('B', 'G', 'H', 'K'),\n",
              " ('B', 'G', 'H', 'L'),\n",
              " ('B', 'G', 'H', 'M'),\n",
              " ('B', 'G', 'I', 'K'),\n",
              " ('B', 'G', 'I', 'L'),\n",
              " ('B', 'G', 'I', 'M'),\n",
              " ('B', 'G', 'J', 'K'),\n",
              " ('B', 'G', 'J', 'L'),\n",
              " ('B', 'G', 'J', 'M'),\n",
              " ('C', 'E', 'H', 'K'),\n",
              " ('C', 'E', 'H', 'L'),\n",
              " ('C', 'E', 'H', 'M'),\n",
              " ('C', 'E', 'I', 'K'),\n",
              " ('C', 'E', 'I', 'L'),\n",
              " ('C', 'E', 'I', 'M'),\n",
              " ('C', 'E', 'J', 'K'),\n",
              " ('C', 'E', 'J', 'L'),\n",
              " ('C', 'E', 'J', 'M'),\n",
              " ('C', 'F', 'H', 'K'),\n",
              " ('C', 'F', 'H', 'L'),\n",
              " ('C', 'F', 'H', 'M'),\n",
              " ('C', 'F', 'I', 'K'),\n",
              " ('C', 'F', 'I', 'L'),\n",
              " ('C', 'F', 'I', 'M'),\n",
              " ('C', 'F', 'J', 'K'),\n",
              " ('C', 'F', 'J', 'L'),\n",
              " ('C', 'F', 'J', 'M'),\n",
              " ('C', 'G', 'H', 'K'),\n",
              " ('C', 'G', 'H', 'L'),\n",
              " ('C', 'G', 'H', 'M'),\n",
              " ('C', 'G', 'I', 'K'),\n",
              " ('C', 'G', 'I', 'L'),\n",
              " ('C', 'G', 'I', 'M'),\n",
              " ('C', 'G', 'J', 'K'),\n",
              " ('C', 'G', 'J', 'L'),\n",
              " ('C', 'G', 'J', 'M'),\n",
              " ('D', 'E', 'H', 'K'),\n",
              " ('D', 'E', 'H', 'L'),\n",
              " ('D', 'E', 'H', 'M'),\n",
              " ('D', 'E', 'I', 'K'),\n",
              " ('D', 'E', 'I', 'L'),\n",
              " ('D', 'E', 'I', 'M'),\n",
              " ('D', 'E', 'J', 'K'),\n",
              " ('D', 'E', 'J', 'L'),\n",
              " ('D', 'E', 'J', 'M'),\n",
              " ('D', 'F', 'H', 'K'),\n",
              " ('D', 'F', 'H', 'L'),\n",
              " ('D', 'F', 'H', 'M'),\n",
              " ('D', 'F', 'I', 'K'),\n",
              " ('D', 'F', 'I', 'L'),\n",
              " ('D', 'F', 'I', 'M'),\n",
              " ('D', 'F', 'J', 'K'),\n",
              " ('D', 'F', 'J', 'L'),\n",
              " ('D', 'F', 'J', 'M'),\n",
              " ('D', 'G', 'H', 'K'),\n",
              " ('D', 'G', 'H', 'L'),\n",
              " ('D', 'G', 'H', 'M'),\n",
              " ('D', 'G', 'I', 'K'),\n",
              " ('D', 'G', 'I', 'L'),\n",
              " ('D', 'G', 'I', 'M'),\n",
              " ('D', 'G', 'J', 'K'),\n",
              " ('D', 'G', 'J', 'L'),\n",
              " ('D', 'G', 'J', 'M')]"
            ]
          },
          "metadata": {
            "tags": []
          },
          "execution_count": 12
        }
      ]
    },
    {
      "cell_type": "code",
      "metadata": {
        "id": "3PqonpFRetHN",
        "colab_type": "code",
        "outputId": "8cad7cc6-7b84-4826-dc44-83510761df63",
        "colab": {
          "base_uri": "https://localhost:8080/",
          "height": 1000
        }
      },
      "source": [
        "for i in range(len(str_list)):\n",
        "  print(\"select {} from table\".format(str_list[i]))"
      ],
      "execution_count": 0,
      "outputs": [
        {
          "output_type": "stream",
          "text": [
            "select ('B', 'E', 'H', 'K') from table\n",
            "select ('B', 'E', 'H', 'L') from table\n",
            "select ('B', 'E', 'H', 'M') from table\n",
            "select ('B', 'E', 'I', 'K') from table\n",
            "select ('B', 'E', 'I', 'L') from table\n",
            "select ('B', 'E', 'I', 'M') from table\n",
            "select ('B', 'E', 'J', 'K') from table\n",
            "select ('B', 'E', 'J', 'L') from table\n",
            "select ('B', 'E', 'J', 'M') from table\n",
            "select ('B', 'F', 'H', 'K') from table\n",
            "select ('B', 'F', 'H', 'L') from table\n",
            "select ('B', 'F', 'H', 'M') from table\n",
            "select ('B', 'F', 'I', 'K') from table\n",
            "select ('B', 'F', 'I', 'L') from table\n",
            "select ('B', 'F', 'I', 'M') from table\n",
            "select ('B', 'F', 'J', 'K') from table\n",
            "select ('B', 'F', 'J', 'L') from table\n",
            "select ('B', 'F', 'J', 'M') from table\n",
            "select ('B', 'G', 'H', 'K') from table\n",
            "select ('B', 'G', 'H', 'L') from table\n",
            "select ('B', 'G', 'H', 'M') from table\n",
            "select ('B', 'G', 'I', 'K') from table\n",
            "select ('B', 'G', 'I', 'L') from table\n",
            "select ('B', 'G', 'I', 'M') from table\n",
            "select ('B', 'G', 'J', 'K') from table\n",
            "select ('B', 'G', 'J', 'L') from table\n",
            "select ('B', 'G', 'J', 'M') from table\n",
            "select ('C', 'E', 'H', 'K') from table\n",
            "select ('C', 'E', 'H', 'L') from table\n",
            "select ('C', 'E', 'H', 'M') from table\n",
            "select ('C', 'E', 'I', 'K') from table\n",
            "select ('C', 'E', 'I', 'L') from table\n",
            "select ('C', 'E', 'I', 'M') from table\n",
            "select ('C', 'E', 'J', 'K') from table\n",
            "select ('C', 'E', 'J', 'L') from table\n",
            "select ('C', 'E', 'J', 'M') from table\n",
            "select ('C', 'F', 'H', 'K') from table\n",
            "select ('C', 'F', 'H', 'L') from table\n",
            "select ('C', 'F', 'H', 'M') from table\n",
            "select ('C', 'F', 'I', 'K') from table\n",
            "select ('C', 'F', 'I', 'L') from table\n",
            "select ('C', 'F', 'I', 'M') from table\n",
            "select ('C', 'F', 'J', 'K') from table\n",
            "select ('C', 'F', 'J', 'L') from table\n",
            "select ('C', 'F', 'J', 'M') from table\n",
            "select ('C', 'G', 'H', 'K') from table\n",
            "select ('C', 'G', 'H', 'L') from table\n",
            "select ('C', 'G', 'H', 'M') from table\n",
            "select ('C', 'G', 'I', 'K') from table\n",
            "select ('C', 'G', 'I', 'L') from table\n",
            "select ('C', 'G', 'I', 'M') from table\n",
            "select ('C', 'G', 'J', 'K') from table\n",
            "select ('C', 'G', 'J', 'L') from table\n",
            "select ('C', 'G', 'J', 'M') from table\n",
            "select ('D', 'E', 'H', 'K') from table\n",
            "select ('D', 'E', 'H', 'L') from table\n",
            "select ('D', 'E', 'H', 'M') from table\n",
            "select ('D', 'E', 'I', 'K') from table\n",
            "select ('D', 'E', 'I', 'L') from table\n",
            "select ('D', 'E', 'I', 'M') from table\n",
            "select ('D', 'E', 'J', 'K') from table\n",
            "select ('D', 'E', 'J', 'L') from table\n",
            "select ('D', 'E', 'J', 'M') from table\n",
            "select ('D', 'F', 'H', 'K') from table\n",
            "select ('D', 'F', 'H', 'L') from table\n",
            "select ('D', 'F', 'H', 'M') from table\n",
            "select ('D', 'F', 'I', 'K') from table\n",
            "select ('D', 'F', 'I', 'L') from table\n",
            "select ('D', 'F', 'I', 'M') from table\n",
            "select ('D', 'F', 'J', 'K') from table\n",
            "select ('D', 'F', 'J', 'L') from table\n",
            "select ('D', 'F', 'J', 'M') from table\n",
            "select ('D', 'G', 'H', 'K') from table\n",
            "select ('D', 'G', 'H', 'L') from table\n",
            "select ('D', 'G', 'H', 'M') from table\n",
            "select ('D', 'G', 'I', 'K') from table\n",
            "select ('D', 'G', 'I', 'L') from table\n",
            "select ('D', 'G', 'I', 'M') from table\n",
            "select ('D', 'G', 'J', 'K') from table\n",
            "select ('D', 'G', 'J', 'L') from table\n",
            "select ('D', 'G', 'J', 'M') from table\n"
          ],
          "name": "stdout"
        }
      ]
    },
    {
      "cell_type": "code",
      "metadata": {
        "id": "RJNHAY6pgEY_",
        "colab_type": "code",
        "outputId": "67adb8b1-bc59-4d35-f99f-adb09a5871fa",
        "colab": {
          "base_uri": "https://localhost:8080/",
          "height": 34
        }
      },
      "source": [
        "list(str_list[3])"
      ],
      "execution_count": 0,
      "outputs": [
        {
          "output_type": "execute_result",
          "data": {
            "text/plain": [
              "['B', 'E', 'I', 'K']"
            ]
          },
          "metadata": {
            "tags": []
          },
          "execution_count": 16
        }
      ]
    },
    {
      "cell_type": "code",
      "metadata": {
        "id": "LhnsSCS3etKG",
        "colab_type": "code",
        "colab": {}
      },
      "source": [
        "final_str_list=[[]]\n",
        "for i in range(len(str_list)):\n",
        "  final_str_list.append(list(str_list[i]))\n",
        "  "
      ],
      "execution_count": 0,
      "outputs": []
    },
    {
      "cell_type": "code",
      "metadata": {
        "id": "8I9nWwopmZxI",
        "colab_type": "code",
        "colab": {}
      },
      "source": [
        "final_str_list=final_str_list[1:len(final_str_list)][:]"
      ],
      "execution_count": 0,
      "outputs": []
    },
    {
      "cell_type": "code",
      "metadata": {
        "id": "U2ifer4-vLQU",
        "colab_type": "code",
        "outputId": "42fc4926-f959-47fd-eaf4-a6a7e77956a0",
        "colab": {
          "base_uri": "https://localhost:8080/",
          "height": 1000
        }
      },
      "source": [
        "final_str_list"
      ],
      "execution_count": 0,
      "outputs": [
        {
          "output_type": "execute_result",
          "data": {
            "text/plain": [
              "[['B', 'E', 'H', 'K'],\n",
              " ['B', 'E', 'H', 'L'],\n",
              " ['B', 'E', 'H', 'M'],\n",
              " ['B', 'E', 'I', 'K'],\n",
              " ['B', 'E', 'I', 'L'],\n",
              " ['B', 'E', 'I', 'M'],\n",
              " ['B', 'E', 'J', 'K'],\n",
              " ['B', 'E', 'J', 'L'],\n",
              " ['B', 'E', 'J', 'M'],\n",
              " ['B', 'F', 'H', 'K'],\n",
              " ['B', 'F', 'H', 'L'],\n",
              " ['B', 'F', 'H', 'M'],\n",
              " ['B', 'F', 'I', 'K'],\n",
              " ['B', 'F', 'I', 'L'],\n",
              " ['B', 'F', 'I', 'M'],\n",
              " ['B', 'F', 'J', 'K'],\n",
              " ['B', 'F', 'J', 'L'],\n",
              " ['B', 'F', 'J', 'M'],\n",
              " ['B', 'G', 'H', 'K'],\n",
              " ['B', 'G', 'H', 'L'],\n",
              " ['B', 'G', 'H', 'M'],\n",
              " ['B', 'G', 'I', 'K'],\n",
              " ['B', 'G', 'I', 'L'],\n",
              " ['B', 'G', 'I', 'M'],\n",
              " ['B', 'G', 'J', 'K'],\n",
              " ['B', 'G', 'J', 'L'],\n",
              " ['B', 'G', 'J', 'M'],\n",
              " ['C', 'E', 'H', 'K'],\n",
              " ['C', 'E', 'H', 'L'],\n",
              " ['C', 'E', 'H', 'M'],\n",
              " ['C', 'E', 'I', 'K'],\n",
              " ['C', 'E', 'I', 'L'],\n",
              " ['C', 'E', 'I', 'M'],\n",
              " ['C', 'E', 'J', 'K'],\n",
              " ['C', 'E', 'J', 'L'],\n",
              " ['C', 'E', 'J', 'M'],\n",
              " ['C', 'F', 'H', 'K'],\n",
              " ['C', 'F', 'H', 'L'],\n",
              " ['C', 'F', 'H', 'M'],\n",
              " ['C', 'F', 'I', 'K'],\n",
              " ['C', 'F', 'I', 'L'],\n",
              " ['C', 'F', 'I', 'M'],\n",
              " ['C', 'F', 'J', 'K'],\n",
              " ['C', 'F', 'J', 'L'],\n",
              " ['C', 'F', 'J', 'M'],\n",
              " ['C', 'G', 'H', 'K'],\n",
              " ['C', 'G', 'H', 'L'],\n",
              " ['C', 'G', 'H', 'M'],\n",
              " ['C', 'G', 'I', 'K'],\n",
              " ['C', 'G', 'I', 'L'],\n",
              " ['C', 'G', 'I', 'M'],\n",
              " ['C', 'G', 'J', 'K'],\n",
              " ['C', 'G', 'J', 'L'],\n",
              " ['C', 'G', 'J', 'M'],\n",
              " ['D', 'E', 'H', 'K'],\n",
              " ['D', 'E', 'H', 'L'],\n",
              " ['D', 'E', 'H', 'M'],\n",
              " ['D', 'E', 'I', 'K'],\n",
              " ['D', 'E', 'I', 'L'],\n",
              " ['D', 'E', 'I', 'M'],\n",
              " ['D', 'E', 'J', 'K'],\n",
              " ['D', 'E', 'J', 'L'],\n",
              " ['D', 'E', 'J', 'M'],\n",
              " ['D', 'F', 'H', 'K'],\n",
              " ['D', 'F', 'H', 'L'],\n",
              " ['D', 'F', 'H', 'M'],\n",
              " ['D', 'F', 'I', 'K'],\n",
              " ['D', 'F', 'I', 'L'],\n",
              " ['D', 'F', 'I', 'M'],\n",
              " ['D', 'F', 'J', 'K'],\n",
              " ['D', 'F', 'J', 'L'],\n",
              " ['D', 'F', 'J', 'M'],\n",
              " ['D', 'G', 'H', 'K'],\n",
              " ['D', 'G', 'H', 'L'],\n",
              " ['D', 'G', 'H', 'M'],\n",
              " ['D', 'G', 'I', 'K'],\n",
              " ['D', 'G', 'I', 'L'],\n",
              " ['D', 'G', 'I', 'M'],\n",
              " ['D', 'G', 'J', 'K'],\n",
              " ['D', 'G', 'J', 'L'],\n",
              " ['D', 'G', 'J', 'M']]"
            ]
          },
          "metadata": {
            "tags": []
          },
          "execution_count": 58
        }
      ]
    },
    {
      "cell_type": "code",
      "metadata": {
        "id": "JUlXJf88veGQ",
        "colab_type": "code",
        "outputId": "3c4e07ea-771c-41b7-9c8c-0c51e34791ed",
        "colab": {
          "base_uri": "https://localhost:8080/",
          "height": 1000
        }
      },
      "source": [
        "df_list=[]\n",
        "for i in range(len(final_str_list)):\n",
        "  df_list.append(final_str_list[i])\n",
        "df_list"
      ],
      "execution_count": 105,
      "outputs": [
        {
          "output_type": "execute_result",
          "data": {
            "text/plain": [
              "[['B', 'E', 'H', 'K'],\n",
              " ['B', 'E', 'H', 'L'],\n",
              " ['B', 'E', 'H', 'M'],\n",
              " ['B', 'E', 'I', 'K'],\n",
              " ['B', 'E', 'I', 'L'],\n",
              " ['B', 'E', 'I', 'M'],\n",
              " ['B', 'E', 'J', 'K'],\n",
              " ['B', 'E', 'J', 'L'],\n",
              " ['B', 'E', 'J', 'M'],\n",
              " ['B', 'F', 'H', 'K'],\n",
              " ['B', 'F', 'H', 'L'],\n",
              " ['B', 'F', 'H', 'M'],\n",
              " ['B', 'F', 'I', 'K'],\n",
              " ['B', 'F', 'I', 'L'],\n",
              " ['B', 'F', 'I', 'M'],\n",
              " ['B', 'F', 'J', 'K'],\n",
              " ['B', 'F', 'J', 'L'],\n",
              " ['B', 'F', 'J', 'M'],\n",
              " ['B', 'G', 'H', 'K'],\n",
              " ['B', 'G', 'H', 'L'],\n",
              " ['B', 'G', 'H', 'M'],\n",
              " ['B', 'G', 'I', 'K'],\n",
              " ['B', 'G', 'I', 'L'],\n",
              " ['B', 'G', 'I', 'M'],\n",
              " ['B', 'G', 'J', 'K'],\n",
              " ['B', 'G', 'J', 'L'],\n",
              " ['B', 'G', 'J', 'M'],\n",
              " ['C', 'E', 'H', 'K'],\n",
              " ['C', 'E', 'H', 'L'],\n",
              " ['C', 'E', 'H', 'M'],\n",
              " ['C', 'E', 'I', 'K'],\n",
              " ['C', 'E', 'I', 'L'],\n",
              " ['C', 'E', 'I', 'M'],\n",
              " ['C', 'E', 'J', 'K'],\n",
              " ['C', 'E', 'J', 'L'],\n",
              " ['C', 'E', 'J', 'M'],\n",
              " ['C', 'F', 'H', 'K'],\n",
              " ['C', 'F', 'H', 'L'],\n",
              " ['C', 'F', 'H', 'M'],\n",
              " ['C', 'F', 'I', 'K'],\n",
              " ['C', 'F', 'I', 'L'],\n",
              " ['C', 'F', 'I', 'M'],\n",
              " ['C', 'F', 'J', 'K'],\n",
              " ['C', 'F', 'J', 'L'],\n",
              " ['C', 'F', 'J', 'M'],\n",
              " ['C', 'G', 'H', 'K'],\n",
              " ['C', 'G', 'H', 'L'],\n",
              " ['C', 'G', 'H', 'M'],\n",
              " ['C', 'G', 'I', 'K'],\n",
              " ['C', 'G', 'I', 'L'],\n",
              " ['C', 'G', 'I', 'M'],\n",
              " ['C', 'G', 'J', 'K'],\n",
              " ['C', 'G', 'J', 'L'],\n",
              " ['C', 'G', 'J', 'M'],\n",
              " ['D', 'E', 'H', 'K'],\n",
              " ['D', 'E', 'H', 'L'],\n",
              " ['D', 'E', 'H', 'M'],\n",
              " ['D', 'E', 'I', 'K'],\n",
              " ['D', 'E', 'I', 'L'],\n",
              " ['D', 'E', 'I', 'M'],\n",
              " ['D', 'E', 'J', 'K'],\n",
              " ['D', 'E', 'J', 'L'],\n",
              " ['D', 'E', 'J', 'M'],\n",
              " ['D', 'F', 'H', 'K'],\n",
              " ['D', 'F', 'H', 'L'],\n",
              " ['D', 'F', 'H', 'M'],\n",
              " ['D', 'F', 'I', 'K'],\n",
              " ['D', 'F', 'I', 'L'],\n",
              " ['D', 'F', 'I', 'M'],\n",
              " ['D', 'F', 'J', 'K'],\n",
              " ['D', 'F', 'J', 'L'],\n",
              " ['D', 'F', 'J', 'M'],\n",
              " ['D', 'G', 'H', 'K'],\n",
              " ['D', 'G', 'H', 'L'],\n",
              " ['D', 'G', 'H', 'M'],\n",
              " ['D', 'G', 'I', 'K'],\n",
              " ['D', 'G', 'I', 'L'],\n",
              " ['D', 'G', 'I', 'M'],\n",
              " ['D', 'G', 'J', 'K'],\n",
              " ['D', 'G', 'J', 'L'],\n",
              " ['D', 'G', 'J', 'M']]"
            ]
          },
          "metadata": {
            "tags": []
          },
          "execution_count": 105
        }
      ]
    },
    {
      "cell_type": "code",
      "metadata": {
        "id": "eg9y4UUZx_2h",
        "colab_type": "code",
        "outputId": "44c5c517-7c22-49e4-9381-2a7a10737247",
        "colab": {
          "base_uri": "https://localhost:8080/",
          "height": 34
        }
      },
      "source": [
        "len(df_list)"
      ],
      "execution_count": 106,
      "outputs": [
        {
          "output_type": "execute_result",
          "data": {
            "text/plain": [
              "81"
            ]
          },
          "metadata": {
            "tags": []
          },
          "execution_count": 106
        }
      ]
    },
    {
      "cell_type": "code",
      "metadata": {
        "id": "XU_UXIupDQRv",
        "colab_type": "code",
        "colab": {
          "base_uri": "https://localhost:8080/",
          "height": 34
        },
        "outputId": "b1fedb68-a8cd-4042-e7e2-25c5a55628e1"
      },
      "source": [
        "df_list[2]"
      ],
      "execution_count": 108,
      "outputs": [
        {
          "output_type": "execute_result",
          "data": {
            "text/plain": [
              "['B', 'E', 'H', 'M']"
            ]
          },
          "metadata": {
            "tags": []
          },
          "execution_count": 108
        }
      ]
    },
    {
      "cell_type": "code",
      "metadata": {
        "id": "-eKeQ3wQvmvQ",
        "colab_type": "code",
        "colab": {}
      },
      "source": [
        "str=[]\n",
        "m=0\n",
        "n=4\n",
        "for i in range(len(final_str_list)):\n",
        " \n",
        "  str.append(\"select {} from the table\".format(df_list[i]))"
      ],
      "execution_count": 0,
      "outputs": []
    },
    {
      "cell_type": "code",
      "metadata": {
        "id": "jsnKvU8mw1m4",
        "colab_type": "code",
        "outputId": "b5517ce9-ede8-4ad0-a23f-ac6ad0ffa906",
        "colab": {
          "base_uri": "https://localhost:8080/",
          "height": 1000
        }
      },
      "source": [
        "str"
      ],
      "execution_count": 110,
      "outputs": [
        {
          "output_type": "execute_result",
          "data": {
            "text/plain": [
              "[\"select ['B', 'E', 'H', 'K'] from the table\",\n",
              " \"select ['B', 'E', 'H', 'L'] from the table\",\n",
              " \"select ['B', 'E', 'H', 'M'] from the table\",\n",
              " \"select ['B', 'E', 'I', 'K'] from the table\",\n",
              " \"select ['B', 'E', 'I', 'L'] from the table\",\n",
              " \"select ['B', 'E', 'I', 'M'] from the table\",\n",
              " \"select ['B', 'E', 'J', 'K'] from the table\",\n",
              " \"select ['B', 'E', 'J', 'L'] from the table\",\n",
              " \"select ['B', 'E', 'J', 'M'] from the table\",\n",
              " \"select ['B', 'F', 'H', 'K'] from the table\",\n",
              " \"select ['B', 'F', 'H', 'L'] from the table\",\n",
              " \"select ['B', 'F', 'H', 'M'] from the table\",\n",
              " \"select ['B', 'F', 'I', 'K'] from the table\",\n",
              " \"select ['B', 'F', 'I', 'L'] from the table\",\n",
              " \"select ['B', 'F', 'I', 'M'] from the table\",\n",
              " \"select ['B', 'F', 'J', 'K'] from the table\",\n",
              " \"select ['B', 'F', 'J', 'L'] from the table\",\n",
              " \"select ['B', 'F', 'J', 'M'] from the table\",\n",
              " \"select ['B', 'G', 'H', 'K'] from the table\",\n",
              " \"select ['B', 'G', 'H', 'L'] from the table\",\n",
              " \"select ['B', 'G', 'H', 'M'] from the table\",\n",
              " \"select ['B', 'G', 'I', 'K'] from the table\",\n",
              " \"select ['B', 'G', 'I', 'L'] from the table\",\n",
              " \"select ['B', 'G', 'I', 'M'] from the table\",\n",
              " \"select ['B', 'G', 'J', 'K'] from the table\",\n",
              " \"select ['B', 'G', 'J', 'L'] from the table\",\n",
              " \"select ['B', 'G', 'J', 'M'] from the table\",\n",
              " \"select ['C', 'E', 'H', 'K'] from the table\",\n",
              " \"select ['C', 'E', 'H', 'L'] from the table\",\n",
              " \"select ['C', 'E', 'H', 'M'] from the table\",\n",
              " \"select ['C', 'E', 'I', 'K'] from the table\",\n",
              " \"select ['C', 'E', 'I', 'L'] from the table\",\n",
              " \"select ['C', 'E', 'I', 'M'] from the table\",\n",
              " \"select ['C', 'E', 'J', 'K'] from the table\",\n",
              " \"select ['C', 'E', 'J', 'L'] from the table\",\n",
              " \"select ['C', 'E', 'J', 'M'] from the table\",\n",
              " \"select ['C', 'F', 'H', 'K'] from the table\",\n",
              " \"select ['C', 'F', 'H', 'L'] from the table\",\n",
              " \"select ['C', 'F', 'H', 'M'] from the table\",\n",
              " \"select ['C', 'F', 'I', 'K'] from the table\",\n",
              " \"select ['C', 'F', 'I', 'L'] from the table\",\n",
              " \"select ['C', 'F', 'I', 'M'] from the table\",\n",
              " \"select ['C', 'F', 'J', 'K'] from the table\",\n",
              " \"select ['C', 'F', 'J', 'L'] from the table\",\n",
              " \"select ['C', 'F', 'J', 'M'] from the table\",\n",
              " \"select ['C', 'G', 'H', 'K'] from the table\",\n",
              " \"select ['C', 'G', 'H', 'L'] from the table\",\n",
              " \"select ['C', 'G', 'H', 'M'] from the table\",\n",
              " \"select ['C', 'G', 'I', 'K'] from the table\",\n",
              " \"select ['C', 'G', 'I', 'L'] from the table\",\n",
              " \"select ['C', 'G', 'I', 'M'] from the table\",\n",
              " \"select ['C', 'G', 'J', 'K'] from the table\",\n",
              " \"select ['C', 'G', 'J', 'L'] from the table\",\n",
              " \"select ['C', 'G', 'J', 'M'] from the table\",\n",
              " \"select ['D', 'E', 'H', 'K'] from the table\",\n",
              " \"select ['D', 'E', 'H', 'L'] from the table\",\n",
              " \"select ['D', 'E', 'H', 'M'] from the table\",\n",
              " \"select ['D', 'E', 'I', 'K'] from the table\",\n",
              " \"select ['D', 'E', 'I', 'L'] from the table\",\n",
              " \"select ['D', 'E', 'I', 'M'] from the table\",\n",
              " \"select ['D', 'E', 'J', 'K'] from the table\",\n",
              " \"select ['D', 'E', 'J', 'L'] from the table\",\n",
              " \"select ['D', 'E', 'J', 'M'] from the table\",\n",
              " \"select ['D', 'F', 'H', 'K'] from the table\",\n",
              " \"select ['D', 'F', 'H', 'L'] from the table\",\n",
              " \"select ['D', 'F', 'H', 'M'] from the table\",\n",
              " \"select ['D', 'F', 'I', 'K'] from the table\",\n",
              " \"select ['D', 'F', 'I', 'L'] from the table\",\n",
              " \"select ['D', 'F', 'I', 'M'] from the table\",\n",
              " \"select ['D', 'F', 'J', 'K'] from the table\",\n",
              " \"select ['D', 'F', 'J', 'L'] from the table\",\n",
              " \"select ['D', 'F', 'J', 'M'] from the table\",\n",
              " \"select ['D', 'G', 'H', 'K'] from the table\",\n",
              " \"select ['D', 'G', 'H', 'L'] from the table\",\n",
              " \"select ['D', 'G', 'H', 'M'] from the table\",\n",
              " \"select ['D', 'G', 'I', 'K'] from the table\",\n",
              " \"select ['D', 'G', 'I', 'L'] from the table\",\n",
              " \"select ['D', 'G', 'I', 'M'] from the table\",\n",
              " \"select ['D', 'G', 'J', 'K'] from the table\",\n",
              " \"select ['D', 'G', 'J', 'L'] from the table\",\n",
              " \"select ['D', 'G', 'J', 'M'] from the table\"]"
            ]
          },
          "metadata": {
            "tags": []
          },
          "execution_count": 110
        }
      ]
    },
    {
      "cell_type": "code",
      "metadata": {
        "id": "xlT8sDhAv6Cy",
        "colab_type": "code",
        "colab": {}
      },
      "source": [
        "import pandas as pd\n",
        "df=pd.DataFrame()\n",
        "df[\"Entry\"]=str"
      ],
      "execution_count": 0,
      "outputs": []
    },
    {
      "cell_type": "code",
      "metadata": {
        "id": "vmK0t6-ED1gw",
        "colab_type": "code",
        "colab": {
          "base_uri": "https://localhost:8080/",
          "height": 1000
        },
        "outputId": "981a618b-0640-4ef5-85b7-02991b3e0740"
      },
      "source": [
        "df"
      ],
      "execution_count": 120,
      "outputs": [
        {
          "output_type": "execute_result",
          "data": {
            "text/html": [
              "<div>\n",
              "<style scoped>\n",
              "    .dataframe tbody tr th:only-of-type {\n",
              "        vertical-align: middle;\n",
              "    }\n",
              "\n",
              "    .dataframe tbody tr th {\n",
              "        vertical-align: top;\n",
              "    }\n",
              "\n",
              "    .dataframe thead th {\n",
              "        text-align: right;\n",
              "    }\n",
              "</style>\n",
              "<table border=\"1\" class=\"dataframe\">\n",
              "  <thead>\n",
              "    <tr style=\"text-align: right;\">\n",
              "      <th></th>\n",
              "      <th>Entry</th>\n",
              "    </tr>\n",
              "  </thead>\n",
              "  <tbody>\n",
              "    <tr>\n",
              "      <th>0</th>\n",
              "      <td>select ['B', 'E', 'H', 'K'] from the table</td>\n",
              "    </tr>\n",
              "    <tr>\n",
              "      <th>1</th>\n",
              "      <td>select ['B', 'E', 'H', 'L'] from the table</td>\n",
              "    </tr>\n",
              "    <tr>\n",
              "      <th>2</th>\n",
              "      <td>select ['B', 'E', 'H', 'M'] from the table</td>\n",
              "    </tr>\n",
              "    <tr>\n",
              "      <th>3</th>\n",
              "      <td>select ['B', 'E', 'I', 'K'] from the table</td>\n",
              "    </tr>\n",
              "    <tr>\n",
              "      <th>4</th>\n",
              "      <td>select ['B', 'E', 'I', 'L'] from the table</td>\n",
              "    </tr>\n",
              "    <tr>\n",
              "      <th>5</th>\n",
              "      <td>select ['B', 'E', 'I', 'M'] from the table</td>\n",
              "    </tr>\n",
              "    <tr>\n",
              "      <th>6</th>\n",
              "      <td>select ['B', 'E', 'J', 'K'] from the table</td>\n",
              "    </tr>\n",
              "    <tr>\n",
              "      <th>7</th>\n",
              "      <td>select ['B', 'E', 'J', 'L'] from the table</td>\n",
              "    </tr>\n",
              "    <tr>\n",
              "      <th>8</th>\n",
              "      <td>select ['B', 'E', 'J', 'M'] from the table</td>\n",
              "    </tr>\n",
              "    <tr>\n",
              "      <th>9</th>\n",
              "      <td>select ['B', 'F', 'H', 'K'] from the table</td>\n",
              "    </tr>\n",
              "    <tr>\n",
              "      <th>10</th>\n",
              "      <td>select ['B', 'F', 'H', 'L'] from the table</td>\n",
              "    </tr>\n",
              "    <tr>\n",
              "      <th>11</th>\n",
              "      <td>select ['B', 'F', 'H', 'M'] from the table</td>\n",
              "    </tr>\n",
              "    <tr>\n",
              "      <th>12</th>\n",
              "      <td>select ['B', 'F', 'I', 'K'] from the table</td>\n",
              "    </tr>\n",
              "    <tr>\n",
              "      <th>13</th>\n",
              "      <td>select ['B', 'F', 'I', 'L'] from the table</td>\n",
              "    </tr>\n",
              "    <tr>\n",
              "      <th>14</th>\n",
              "      <td>select ['B', 'F', 'I', 'M'] from the table</td>\n",
              "    </tr>\n",
              "    <tr>\n",
              "      <th>15</th>\n",
              "      <td>select ['B', 'F', 'J', 'K'] from the table</td>\n",
              "    </tr>\n",
              "    <tr>\n",
              "      <th>16</th>\n",
              "      <td>select ['B', 'F', 'J', 'L'] from the table</td>\n",
              "    </tr>\n",
              "    <tr>\n",
              "      <th>17</th>\n",
              "      <td>select ['B', 'F', 'J', 'M'] from the table</td>\n",
              "    </tr>\n",
              "    <tr>\n",
              "      <th>18</th>\n",
              "      <td>select ['B', 'G', 'H', 'K'] from the table</td>\n",
              "    </tr>\n",
              "    <tr>\n",
              "      <th>19</th>\n",
              "      <td>select ['B', 'G', 'H', 'L'] from the table</td>\n",
              "    </tr>\n",
              "    <tr>\n",
              "      <th>20</th>\n",
              "      <td>select ['B', 'G', 'H', 'M'] from the table</td>\n",
              "    </tr>\n",
              "    <tr>\n",
              "      <th>21</th>\n",
              "      <td>select ['B', 'G', 'I', 'K'] from the table</td>\n",
              "    </tr>\n",
              "    <tr>\n",
              "      <th>22</th>\n",
              "      <td>select ['B', 'G', 'I', 'L'] from the table</td>\n",
              "    </tr>\n",
              "    <tr>\n",
              "      <th>23</th>\n",
              "      <td>select ['B', 'G', 'I', 'M'] from the table</td>\n",
              "    </tr>\n",
              "    <tr>\n",
              "      <th>24</th>\n",
              "      <td>select ['B', 'G', 'J', 'K'] from the table</td>\n",
              "    </tr>\n",
              "    <tr>\n",
              "      <th>25</th>\n",
              "      <td>select ['B', 'G', 'J', 'L'] from the table</td>\n",
              "    </tr>\n",
              "    <tr>\n",
              "      <th>26</th>\n",
              "      <td>select ['B', 'G', 'J', 'M'] from the table</td>\n",
              "    </tr>\n",
              "    <tr>\n",
              "      <th>27</th>\n",
              "      <td>select ['C', 'E', 'H', 'K'] from the table</td>\n",
              "    </tr>\n",
              "    <tr>\n",
              "      <th>28</th>\n",
              "      <td>select ['C', 'E', 'H', 'L'] from the table</td>\n",
              "    </tr>\n",
              "    <tr>\n",
              "      <th>29</th>\n",
              "      <td>select ['C', 'E', 'H', 'M'] from the table</td>\n",
              "    </tr>\n",
              "    <tr>\n",
              "      <th>...</th>\n",
              "      <td>...</td>\n",
              "    </tr>\n",
              "    <tr>\n",
              "      <th>51</th>\n",
              "      <td>select ['C', 'G', 'J', 'K'] from the table</td>\n",
              "    </tr>\n",
              "    <tr>\n",
              "      <th>52</th>\n",
              "      <td>select ['C', 'G', 'J', 'L'] from the table</td>\n",
              "    </tr>\n",
              "    <tr>\n",
              "      <th>53</th>\n",
              "      <td>select ['C', 'G', 'J', 'M'] from the table</td>\n",
              "    </tr>\n",
              "    <tr>\n",
              "      <th>54</th>\n",
              "      <td>select ['D', 'E', 'H', 'K'] from the table</td>\n",
              "    </tr>\n",
              "    <tr>\n",
              "      <th>55</th>\n",
              "      <td>select ['D', 'E', 'H', 'L'] from the table</td>\n",
              "    </tr>\n",
              "    <tr>\n",
              "      <th>56</th>\n",
              "      <td>select ['D', 'E', 'H', 'M'] from the table</td>\n",
              "    </tr>\n",
              "    <tr>\n",
              "      <th>57</th>\n",
              "      <td>select ['D', 'E', 'I', 'K'] from the table</td>\n",
              "    </tr>\n",
              "    <tr>\n",
              "      <th>58</th>\n",
              "      <td>select ['D', 'E', 'I', 'L'] from the table</td>\n",
              "    </tr>\n",
              "    <tr>\n",
              "      <th>59</th>\n",
              "      <td>select ['D', 'E', 'I', 'M'] from the table</td>\n",
              "    </tr>\n",
              "    <tr>\n",
              "      <th>60</th>\n",
              "      <td>select ['D', 'E', 'J', 'K'] from the table</td>\n",
              "    </tr>\n",
              "    <tr>\n",
              "      <th>61</th>\n",
              "      <td>select ['D', 'E', 'J', 'L'] from the table</td>\n",
              "    </tr>\n",
              "    <tr>\n",
              "      <th>62</th>\n",
              "      <td>select ['D', 'E', 'J', 'M'] from the table</td>\n",
              "    </tr>\n",
              "    <tr>\n",
              "      <th>63</th>\n",
              "      <td>select ['D', 'F', 'H', 'K'] from the table</td>\n",
              "    </tr>\n",
              "    <tr>\n",
              "      <th>64</th>\n",
              "      <td>select ['D', 'F', 'H', 'L'] from the table</td>\n",
              "    </tr>\n",
              "    <tr>\n",
              "      <th>65</th>\n",
              "      <td>select ['D', 'F', 'H', 'M'] from the table</td>\n",
              "    </tr>\n",
              "    <tr>\n",
              "      <th>66</th>\n",
              "      <td>select ['D', 'F', 'I', 'K'] from the table</td>\n",
              "    </tr>\n",
              "    <tr>\n",
              "      <th>67</th>\n",
              "      <td>select ['D', 'F', 'I', 'L'] from the table</td>\n",
              "    </tr>\n",
              "    <tr>\n",
              "      <th>68</th>\n",
              "      <td>select ['D', 'F', 'I', 'M'] from the table</td>\n",
              "    </tr>\n",
              "    <tr>\n",
              "      <th>69</th>\n",
              "      <td>select ['D', 'F', 'J', 'K'] from the table</td>\n",
              "    </tr>\n",
              "    <tr>\n",
              "      <th>70</th>\n",
              "      <td>select ['D', 'F', 'J', 'L'] from the table</td>\n",
              "    </tr>\n",
              "    <tr>\n",
              "      <th>71</th>\n",
              "      <td>select ['D', 'F', 'J', 'M'] from the table</td>\n",
              "    </tr>\n",
              "    <tr>\n",
              "      <th>72</th>\n",
              "      <td>select ['D', 'G', 'H', 'K'] from the table</td>\n",
              "    </tr>\n",
              "    <tr>\n",
              "      <th>73</th>\n",
              "      <td>select ['D', 'G', 'H', 'L'] from the table</td>\n",
              "    </tr>\n",
              "    <tr>\n",
              "      <th>74</th>\n",
              "      <td>select ['D', 'G', 'H', 'M'] from the table</td>\n",
              "    </tr>\n",
              "    <tr>\n",
              "      <th>75</th>\n",
              "      <td>select ['D', 'G', 'I', 'K'] from the table</td>\n",
              "    </tr>\n",
              "    <tr>\n",
              "      <th>76</th>\n",
              "      <td>select ['D', 'G', 'I', 'L'] from the table</td>\n",
              "    </tr>\n",
              "    <tr>\n",
              "      <th>77</th>\n",
              "      <td>select ['D', 'G', 'I', 'M'] from the table</td>\n",
              "    </tr>\n",
              "    <tr>\n",
              "      <th>78</th>\n",
              "      <td>select ['D', 'G', 'J', 'K'] from the table</td>\n",
              "    </tr>\n",
              "    <tr>\n",
              "      <th>79</th>\n",
              "      <td>select ['D', 'G', 'J', 'L'] from the table</td>\n",
              "    </tr>\n",
              "    <tr>\n",
              "      <th>80</th>\n",
              "      <td>select ['D', 'G', 'J', 'M'] from the table</td>\n",
              "    </tr>\n",
              "  </tbody>\n",
              "</table>\n",
              "<p>81 rows × 1 columns</p>\n",
              "</div>"
            ],
            "text/plain": [
              "                                         Entry\n",
              "0   select ['B', 'E', 'H', 'K'] from the table\n",
              "1   select ['B', 'E', 'H', 'L'] from the table\n",
              "2   select ['B', 'E', 'H', 'M'] from the table\n",
              "3   select ['B', 'E', 'I', 'K'] from the table\n",
              "4   select ['B', 'E', 'I', 'L'] from the table\n",
              "5   select ['B', 'E', 'I', 'M'] from the table\n",
              "6   select ['B', 'E', 'J', 'K'] from the table\n",
              "7   select ['B', 'E', 'J', 'L'] from the table\n",
              "8   select ['B', 'E', 'J', 'M'] from the table\n",
              "9   select ['B', 'F', 'H', 'K'] from the table\n",
              "10  select ['B', 'F', 'H', 'L'] from the table\n",
              "11  select ['B', 'F', 'H', 'M'] from the table\n",
              "12  select ['B', 'F', 'I', 'K'] from the table\n",
              "13  select ['B', 'F', 'I', 'L'] from the table\n",
              "14  select ['B', 'F', 'I', 'M'] from the table\n",
              "15  select ['B', 'F', 'J', 'K'] from the table\n",
              "16  select ['B', 'F', 'J', 'L'] from the table\n",
              "17  select ['B', 'F', 'J', 'M'] from the table\n",
              "18  select ['B', 'G', 'H', 'K'] from the table\n",
              "19  select ['B', 'G', 'H', 'L'] from the table\n",
              "20  select ['B', 'G', 'H', 'M'] from the table\n",
              "21  select ['B', 'G', 'I', 'K'] from the table\n",
              "22  select ['B', 'G', 'I', 'L'] from the table\n",
              "23  select ['B', 'G', 'I', 'M'] from the table\n",
              "24  select ['B', 'G', 'J', 'K'] from the table\n",
              "25  select ['B', 'G', 'J', 'L'] from the table\n",
              "26  select ['B', 'G', 'J', 'M'] from the table\n",
              "27  select ['C', 'E', 'H', 'K'] from the table\n",
              "28  select ['C', 'E', 'H', 'L'] from the table\n",
              "29  select ['C', 'E', 'H', 'M'] from the table\n",
              "..                                         ...\n",
              "51  select ['C', 'G', 'J', 'K'] from the table\n",
              "52  select ['C', 'G', 'J', 'L'] from the table\n",
              "53  select ['C', 'G', 'J', 'M'] from the table\n",
              "54  select ['D', 'E', 'H', 'K'] from the table\n",
              "55  select ['D', 'E', 'H', 'L'] from the table\n",
              "56  select ['D', 'E', 'H', 'M'] from the table\n",
              "57  select ['D', 'E', 'I', 'K'] from the table\n",
              "58  select ['D', 'E', 'I', 'L'] from the table\n",
              "59  select ['D', 'E', 'I', 'M'] from the table\n",
              "60  select ['D', 'E', 'J', 'K'] from the table\n",
              "61  select ['D', 'E', 'J', 'L'] from the table\n",
              "62  select ['D', 'E', 'J', 'M'] from the table\n",
              "63  select ['D', 'F', 'H', 'K'] from the table\n",
              "64  select ['D', 'F', 'H', 'L'] from the table\n",
              "65  select ['D', 'F', 'H', 'M'] from the table\n",
              "66  select ['D', 'F', 'I', 'K'] from the table\n",
              "67  select ['D', 'F', 'I', 'L'] from the table\n",
              "68  select ['D', 'F', 'I', 'M'] from the table\n",
              "69  select ['D', 'F', 'J', 'K'] from the table\n",
              "70  select ['D', 'F', 'J', 'L'] from the table\n",
              "71  select ['D', 'F', 'J', 'M'] from the table\n",
              "72  select ['D', 'G', 'H', 'K'] from the table\n",
              "73  select ['D', 'G', 'H', 'L'] from the table\n",
              "74  select ['D', 'G', 'H', 'M'] from the table\n",
              "75  select ['D', 'G', 'I', 'K'] from the table\n",
              "76  select ['D', 'G', 'I', 'L'] from the table\n",
              "77  select ['D', 'G', 'I', 'M'] from the table\n",
              "78  select ['D', 'G', 'J', 'K'] from the table\n",
              "79  select ['D', 'G', 'J', 'L'] from the table\n",
              "80  select ['D', 'G', 'J', 'M'] from the table\n",
              "\n",
              "[81 rows x 1 columns]"
            ]
          },
          "metadata": {
            "tags": []
          },
          "execution_count": 120
        }
      ]
    },
    {
      "cell_type": "code",
      "metadata": {
        "id": "N7tjVtmeCWzB",
        "colab_type": "code",
        "colab": {
          "base_uri": "https://localhost:8080/",
          "height": 34
        },
        "outputId": "32039673-0797-4dc1-897f-155e484da622"
      },
      "source": [
        "df.shape[0]"
      ],
      "execution_count": 113,
      "outputs": [
        {
          "output_type": "execute_result",
          "data": {
            "text/plain": [
              "81"
            ]
          },
          "metadata": {
            "tags": []
          },
          "execution_count": 113
        }
      ]
    },
    {
      "cell_type": "code",
      "metadata": {
        "id": "tn6Y2bv_nZio",
        "colab_type": "code",
        "colab": {}
      },
      "source": [
        "bad=['[',']',\"'\"]\n",
        "\n",
        "for i in range(df.shape[0]):\n",
        "\n",
        " for j in bad:\n",
        "  df[\"Entry\"][i]=df[\"Entry\"][i].replace(j,' ')\n",
        " "
      ],
      "execution_count": 0,
      "outputs": []
    },
    {
      "cell_type": "code",
      "metadata": {
        "id": "5nEJOIXz0ggM",
        "colab_type": "code",
        "outputId": "e64efe8e-cf92-4ea0-edc0-1e34ee0e0f5d",
        "colab": {
          "base_uri": "https://localhost:8080/",
          "height": 1000
        }
      },
      "source": [
        "df[\"Entry\"]"
      ],
      "execution_count": 124,
      "outputs": [
        {
          "output_type": "execute_result",
          "data": {
            "text/plain": [
              "0     select   B ,  E ,  H ,  K   from the table\n",
              "1     select   B ,  E ,  H ,  L   from the table\n",
              "2     select   B ,  E ,  H ,  M   from the table\n",
              "3     select   B ,  E ,  I ,  K   from the table\n",
              "4     select   B ,  E ,  I ,  L   from the table\n",
              "5     select   B ,  E ,  I ,  M   from the table\n",
              "6     select   B ,  E ,  J ,  K   from the table\n",
              "7     select   B ,  E ,  J ,  L   from the table\n",
              "8     select   B ,  E ,  J ,  M   from the table\n",
              "9     select   B ,  F ,  H ,  K   from the table\n",
              "10    select   B ,  F ,  H ,  L   from the table\n",
              "11    select   B ,  F ,  H ,  M   from the table\n",
              "12    select   B ,  F ,  I ,  K   from the table\n",
              "13    select   B ,  F ,  I ,  L   from the table\n",
              "14    select   B ,  F ,  I ,  M   from the table\n",
              "15    select   B ,  F ,  J ,  K   from the table\n",
              "16    select   B ,  F ,  J ,  L   from the table\n",
              "17    select   B ,  F ,  J ,  M   from the table\n",
              "18    select   B ,  G ,  H ,  K   from the table\n",
              "19    select   B ,  G ,  H ,  L   from the table\n",
              "20    select   B ,  G ,  H ,  M   from the table\n",
              "21    select   B ,  G ,  I ,  K   from the table\n",
              "22    select   B ,  G ,  I ,  L   from the table\n",
              "23    select   B ,  G ,  I ,  M   from the table\n",
              "24    select   B ,  G ,  J ,  K   from the table\n",
              "25    select   B ,  G ,  J ,  L   from the table\n",
              "26    select   B ,  G ,  J ,  M   from the table\n",
              "27    select   C ,  E ,  H ,  K   from the table\n",
              "28    select   C ,  E ,  H ,  L   from the table\n",
              "29    select   C ,  E ,  H ,  M   from the table\n",
              "                         ...                    \n",
              "51    select   C ,  G ,  J ,  K   from the table\n",
              "52    select   C ,  G ,  J ,  L   from the table\n",
              "53    select   C ,  G ,  J ,  M   from the table\n",
              "54    select   D ,  E ,  H ,  K   from the table\n",
              "55    select   D ,  E ,  H ,  L   from the table\n",
              "56    select   D ,  E ,  H ,  M   from the table\n",
              "57    select   D ,  E ,  I ,  K   from the table\n",
              "58    select   D ,  E ,  I ,  L   from the table\n",
              "59    select   D ,  E ,  I ,  M   from the table\n",
              "60    select   D ,  E ,  J ,  K   from the table\n",
              "61    select   D ,  E ,  J ,  L   from the table\n",
              "62    select   D ,  E ,  J ,  M   from the table\n",
              "63    select   D ,  F ,  H ,  K   from the table\n",
              "64    select   D ,  F ,  H ,  L   from the table\n",
              "65    select   D ,  F ,  H ,  M   from the table\n",
              "66    select   D ,  F ,  I ,  K   from the table\n",
              "67    select   D ,  F ,  I ,  L   from the table\n",
              "68    select   D ,  F ,  I ,  M   from the table\n",
              "69    select   D ,  F ,  J ,  K   from the table\n",
              "70    select   D ,  F ,  J ,  L   from the table\n",
              "71    select   D ,  F ,  J ,  M   from the table\n",
              "72    select   D ,  G ,  H ,  K   from the table\n",
              "73    select   D ,  G ,  H ,  L   from the table\n",
              "74    select   D ,  G ,  H ,  M   from the table\n",
              "75    select   D ,  G ,  I ,  K   from the table\n",
              "76    select   D ,  G ,  I ,  L   from the table\n",
              "77    select   D ,  G ,  I ,  M   from the table\n",
              "78    select   D ,  G ,  J ,  K   from the table\n",
              "79    select   D ,  G ,  J ,  L   from the table\n",
              "80    select   D ,  G ,  J ,  M   from the table\n",
              "Name: Entry, Length: 81, dtype: object"
            ]
          },
          "metadata": {
            "tags": []
          },
          "execution_count": 124
        }
      ]
    },
    {
      "cell_type": "code",
      "metadata": {
        "id": "-9qNzFo-nodW",
        "colab_type": "code",
        "colab": {}
      },
      "source": [
        ""
      ],
      "execution_count": 0,
      "outputs": []
    },
    {
      "cell_type": "code",
      "metadata": {
        "id": "nUyCTnFWmgFA",
        "colab_type": "code",
        "colab": {}
      },
      "source": [
        ""
      ],
      "execution_count": 0,
      "outputs": []
    },
    {
      "cell_type": "code",
      "metadata": {
        "id": "J76mYqOSpQvp",
        "colab_type": "code",
        "colab": {}
      },
      "source": [
        ""
      ],
      "execution_count": 0,
      "outputs": []
    },
    {
      "cell_type": "code",
      "metadata": {
        "id": "aG86iE83etM9",
        "colab_type": "code",
        "colab": {}
      },
      "source": [
        ""
      ],
      "execution_count": 0,
      "outputs": []
    },
    {
      "cell_type": "code",
      "metadata": {
        "id": "fN7Onu09etVf",
        "colab_type": "code",
        "colab": {}
      },
      "source": [
        ""
      ],
      "execution_count": 0,
      "outputs": []
    }
  ]
}